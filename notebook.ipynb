{
 "cells": [
  {
   "cell_type": "markdown",
   "id": "d3d001b0-2e2f-4b58-8442-99520bad831f",
   "metadata": {},
   "source": [
    "# Use of multiclass logistic regression to select best predictor of for selection\n",
    "\n",
    "Measuring essential soil metrics such as nitrogen, phosphorous, potassium levels, and pH value is an important aspect of assessing soil condition. However, it can be an expensive and time-consuming process, which can cause farmers to prioritize which metrics to measure based on their budget constraints.\n",
    "\n",
    "Farmers have various options when it comes to deciding which crop to plant each season. Their primary objective is to maximize the yield of their crops, taking into account different factors. One crucial factor that affects crop growth is the condition of the soil in the field, which can be assessed by measuring basic elements such as nitrogen and potassium levels. Each crop has an ideal soil condition that ensures optimal growth and maximum yield.\n",
    "\n",
    "A farmer reached out to you as a machine learning expert for assistance in selecting the best crop for his field. They've provided you with a dataset called `soil_measures.csv`, which contains:\n",
    "\n",
    "- `\"N\"`: Nitrogen content ratio in the soil\n",
    "- `\"P\"`: Phosphorous content ratio in the soil\n",
    "- `\"K\"`: Potassium content ratio in the soil\n",
    "- `\"pH\"` value of the soil\n",
    "- `\"crop\"`: categorical values that contain various crops (target variable).\n",
    "\n",
    "Each row in this dataset represents various measures of the soil in a particular field. Based on these measurements, the crop specified in the `\"crop\"` column is the optimal choice for that field.  \n",
    "\n",
    "In this project, you will build multi-class classification models to predict the type of `\"crop\"` and identify the single most importance feature for predictive performance."
   ]
  },
  {
   "cell_type": "code",
   "execution_count": 21,
   "id": "d0eb4f16-5a99-460d-a5ba-706b7ef0bbe7",
   "metadata": {
    "executionCancelledAt": null,
    "executionTime": 51,
    "id": "bA5ajAmk7XH6",
    "lastExecutedAt": 1733635905998,
    "lastExecutedByKernel": "3d514846-ff31-4f46-b670-d6c856e7216c",
    "lastScheduledRunId": null,
    "lastSuccessfullyExecutedCode": "# Required libraries\nimport pandas as pd\nfrom sklearn.linear_model import LogisticRegression\nfrom sklearn.model_selection import train_test_split\nfrom sklearn.model_selection import cross_val_score\nfrom sklearn.model_selection import RandomizedSearchCV\nfrom sklearn import metrics\n\n# Dataset loaded\ncrops = pd.read_csv(\"soil_measures.csv\")"
   },
   "outputs": [],
   "source": [
    "# Required libraries\n",
    "import pandas as pd\n",
    "from sklearn.linear_model import LogisticRegression\n",
    "from sklearn.model_selection import train_test_split\n",
    "from sklearn import metrics\n",
    "\n",
    "# Dataset loaded\n",
    "crops = pd.read_csv(\"soil_measures.csv\")"
   ]
  },
  {
   "cell_type": "code",
   "execution_count": 22,
   "id": "b9080aca-2b35-4add-9c4e-cb4c454d65b5",
   "metadata": {
    "executionCancelledAt": null,
    "executionTime": null,
    "lastExecutedAt": null,
    "lastExecutedByKernel": null,
    "lastScheduledRunId": null,
    "lastSuccessfullyExecutedCode": null,
    "outputsMetadata": {
     "0": {
      "height": 248,
      "type": "dataFrame"
     },
     "1": {
      "height": 221,
      "type": "dataFrame"
     }
    }
   },
   "outputs": [
    {
     "data": {
      "text/html": [
       "<div>\n",
       "<style scoped>\n",
       "    .dataframe tbody tr th:only-of-type {\n",
       "        vertical-align: middle;\n",
       "    }\n",
       "\n",
       "    .dataframe tbody tr th {\n",
       "        vertical-align: top;\n",
       "    }\n",
       "\n",
       "    .dataframe thead th {\n",
       "        text-align: right;\n",
       "    }\n",
       "</style>\n",
       "<table border=\"1\" class=\"dataframe\">\n",
       "  <thead>\n",
       "    <tr style=\"text-align: right;\">\n",
       "      <th></th>\n",
       "      <th>N</th>\n",
       "      <th>P</th>\n",
       "      <th>K</th>\n",
       "      <th>ph</th>\n",
       "      <th>crop</th>\n",
       "    </tr>\n",
       "  </thead>\n",
       "  <tbody>\n",
       "    <tr>\n",
       "      <th>0</th>\n",
       "      <td>90</td>\n",
       "      <td>42</td>\n",
       "      <td>43</td>\n",
       "      <td>6.502985</td>\n",
       "      <td>rice</td>\n",
       "    </tr>\n",
       "    <tr>\n",
       "      <th>1</th>\n",
       "      <td>85</td>\n",
       "      <td>58</td>\n",
       "      <td>41</td>\n",
       "      <td>7.038096</td>\n",
       "      <td>rice</td>\n",
       "    </tr>\n",
       "    <tr>\n",
       "      <th>2</th>\n",
       "      <td>60</td>\n",
       "      <td>55</td>\n",
       "      <td>44</td>\n",
       "      <td>7.840207</td>\n",
       "      <td>rice</td>\n",
       "    </tr>\n",
       "    <tr>\n",
       "      <th>3</th>\n",
       "      <td>74</td>\n",
       "      <td>35</td>\n",
       "      <td>40</td>\n",
       "      <td>6.980401</td>\n",
       "      <td>rice</td>\n",
       "    </tr>\n",
       "    <tr>\n",
       "      <th>4</th>\n",
       "      <td>78</td>\n",
       "      <td>42</td>\n",
       "      <td>42</td>\n",
       "      <td>7.628473</td>\n",
       "      <td>rice</td>\n",
       "    </tr>\n",
       "  </tbody>\n",
       "</table>\n",
       "</div>"
      ],
      "text/plain": [
       "    N   P   K        ph  crop\n",
       "0  90  42  43  6.502985  rice\n",
       "1  85  58  41  7.038096  rice\n",
       "2  60  55  44  7.840207  rice\n",
       "3  74  35  40  6.980401  rice\n",
       "4  78  42  42  7.628473  rice"
      ]
     },
     "execution_count": 22,
     "metadata": {},
     "output_type": "execute_result"
    }
   ],
   "source": [
    "# View the first few lines of the dataframe\n",
    "crops.head()"
   ]
  },
  {
   "cell_type": "code",
   "execution_count": 23,
   "id": "0aa4763d-46c3-4771-9dfa-553e3a070e5f",
   "metadata": {
    "executionCancelledAt": null,
    "executionTime": null,
    "lastExecutedAt": null,
    "lastExecutedByKernel": null,
    "lastScheduledRunId": null,
    "lastSuccessfullyExecutedCode": null,
    "outputsMetadata": {
     "0": {
      "height": 269,
      "type": "stream"
     }
    }
   },
   "outputs": [
    {
     "name": "stdout",
     "output_type": "stream",
     "text": [
      "<class 'pandas.core.frame.DataFrame'>\n",
      "RangeIndex: 2200 entries, 0 to 2199\n",
      "Data columns (total 5 columns):\n",
      " #   Column  Non-Null Count  Dtype  \n",
      "---  ------  --------------  -----  \n",
      " 0   N       2200 non-null   int64  \n",
      " 1   P       2200 non-null   int64  \n",
      " 2   K       2200 non-null   int64  \n",
      " 3   ph      2200 non-null   float64\n",
      " 4   crop    2200 non-null   object \n",
      "dtypes: float64(1), int64(3), object(1)\n",
      "memory usage: 86.1+ KB\n"
     ]
    }
   ],
   "source": [
    "# Characterize each column\n",
    "crops.info()"
   ]
  },
  {
   "cell_type": "code",
   "execution_count": 24,
   "id": "1c8d821d",
   "metadata": {},
   "outputs": [
    {
     "data": {
      "text/plain": [
       "array(['rice', 'maize', 'chickpea', 'kidneybeans', 'pigeonpeas',\n",
       "       'mothbeans', 'mungbean', 'blackgram', 'lentil', 'pomegranate',\n",
       "       'banana', 'mango', 'grapes', 'watermelon', 'muskmelon', 'apple',\n",
       "       'orange', 'papaya', 'coconut', 'cotton', 'jute', 'coffee'],\n",
       "      dtype=object)"
      ]
     },
     "execution_count": 24,
     "metadata": {},
     "output_type": "execute_result"
    }
   ],
   "source": [
    "# Check for crop types\n",
    "crops['crop'].unique()"
   ]
  },
  {
   "cell_type": "code",
   "execution_count": 25,
   "id": "31f5e324",
   "metadata": {},
   "outputs": [],
   "source": [
    "# Create X and y\n",
    "X = crops.drop('crop', axis=1)\n",
    "y = crops['crop']"
   ]
  },
  {
   "cell_type": "code",
   "execution_count": 26,
   "id": "47b4562a-dda6-446d-b14c-985df20c324e",
   "metadata": {
    "executionCancelledAt": null,
    "executionTime": 52,
    "lastExecutedAt": 1733634719029,
    "lastExecutedByKernel": "3d514846-ff31-4f46-b670-d6c856e7216c",
    "lastScheduledRunId": null,
    "lastSuccessfullyExecutedCode": "# Train test split\nX_train, X_test, y_train, y_test = train_test_split(X, y, test_size=0.3, random_state=42)"
   },
   "outputs": [],
   "source": [
    "# Train test split\n",
    "X_train, X_test, y_train, y_test = train_test_split(X, y, test_size=0.3, random_state=42)"
   ]
  },
  {
   "cell_type": "code",
   "execution_count": 27,
   "id": "4e42a21e",
   "metadata": {},
   "outputs": [
    {
     "name": "stdout",
     "output_type": "stream",
     "text": [
      "F1 Score for N: 0.1068706704335576\n",
      "F1 Score for P: 0.12194814660490706\n",
      "F1 Score for K: 0.19730431018300978\n",
      "F1 Score for ph: 0.06787631271947597\n"
     ]
    }
   ],
   "source": [
    "# Iterate over numeric columns in the data frame\n",
    "\n",
    "features_dict = {}\n",
    "\n",
    "for feature in X_train.columns:\n",
    "    log_reg = LogisticRegression(multi_class='multinomial', max_iter=100000)  # Adjust `max_iter` as needed\n",
    "    log_reg.fit(X_train[[feature]], y_train)\n",
    "    y_pred = log_reg.predict(X_test[[feature]])\n",
    "    \n",
    "    # Compute the F1 score for multiclass classification\n",
    "    f1_score = metrics.f1_score(y_test, y_pred, average='weighted')\n",
    "    \n",
    "    # Store the score in the dictionary\n",
    "    features_dict[feature] = f1_score\n",
    "    \n",
    "    print(f'F1 Score for {feature}: {f1_score}')"
   ]
  },
  {
   "cell_type": "code",
   "execution_count": 28,
   "id": "0e7b369b",
   "metadata": {},
   "outputs": [
    {
     "name": "stdout",
     "output_type": "stream",
     "text": [
      "F1 score of the best predictive feature is 0.197.\n"
     ]
    }
   ],
   "source": [
    "best_predictive_feature = {'F1 Score': features_dict}\n",
    "best_predictive_feature = pd.DataFrame(best_predictive_feature).reset_index()\n",
    "best_predictive_feature.columns = ['Variables', 'F1 Score']\n",
    "print(f\"F1 score of the best predictive feature is {round(best_predictive_feature['F1 Score'].max(), 3)}.\")"
   ]
  },
  {
   "cell_type": "code",
   "execution_count": 29,
   "id": "42f1b8df",
   "metadata": {},
   "outputs": [
    {
     "data": {
      "text/plain": [
       "0.19730431018300978"
      ]
     },
     "execution_count": 29,
     "metadata": {},
     "output_type": "execute_result"
    }
   ],
   "source": [
    "best_predictive_feature['F1 Score'].max()"
   ]
  },
  {
   "cell_type": "code",
   "execution_count": 30,
   "id": "5044d017",
   "metadata": {},
   "outputs": [],
   "source": [
    "# Identify the best predictive feature and its score\n",
    "best_row = best_predictive_feature.loc[best_predictive_feature['F1 Score'].idxmax()]\n",
    "\n",
    "# Create a dictionary with the best feature name and its F1 score\n",
    "best_feature_dict = {best_row['Variables']: best_row['F1 Score']}\n",
    "\n",
    "best_predictive_feature = best_feature_dict\n"
   ]
  },
  {
   "cell_type": "code",
   "execution_count": 31,
   "id": "0ed08381",
   "metadata": {},
   "outputs": [
    {
     "name": "stdout",
     "output_type": "stream",
     "text": [
      "{'K': 0.19730431018300978}\n"
     ]
    }
   ],
   "source": [
    "# Output the dictionary\n",
    "print(best_feature_dict)"
   ]
  },
  {
   "cell_type": "code",
   "execution_count": null,
   "id": "b03151ce",
   "metadata": {},
   "outputs": [],
   "source": []
  }
 ],
 "metadata": {
  "colab": {
   "name": "Welcome to DataCamp Workspaces.ipynb",
   "provenance": []
  },
  "kernelspec": {
   "display_name": "Python 3",
   "language": "python",
   "name": "python3"
  },
  "language_info": {
   "codemirror_mode": {
    "name": "ipython",
    "version": 3
   },
   "file_extension": ".py",
   "mimetype": "text/x-python",
   "name": "python",
   "nbconvert_exporter": "python",
   "pygments_lexer": "ipython3",
   "version": "3.6.13"
  }
 },
 "nbformat": 4,
 "nbformat_minor": 5
}
